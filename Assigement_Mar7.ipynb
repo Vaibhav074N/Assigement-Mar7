{
  "nbformat": 4,
  "nbformat_minor": 0,
  "metadata": {
    "colab": {
      "provenance": [],
      "authorship_tag": "ABX9TyNy0T5PTLGZZ8eiNwXR3fOj",
      "include_colab_link": true
    },
    "kernelspec": {
      "name": "python3",
      "display_name": "Python 3"
    },
    "language_info": {
      "name": "python"
    }
  },
  "cells": [
    {
      "cell_type": "markdown",
      "metadata": {
        "id": "view-in-github",
        "colab_type": "text"
      },
      "source": [
        "<a href=\"https://colab.research.google.com/github/Vaibhav074N/Assigement-Mar7/blob/main/Assigement_Mar7.ipynb\" target=\"_parent\"><img src=\"https://colab.research.google.com/assets/colab-badge.svg\" alt=\"Open In Colab\"/></a>"
      ]
    },
    {
      "cell_type": "markdown",
      "source": [
        "Q1. What are the three measures of central tendency?"
      ],
      "metadata": {
        "id": "Qrk4RyG8K4jF"
      }
    },
    {
      "cell_type": "markdown",
      "source": [
        "The three measures of central tendency are:\n",
        "\n",
        "1.Mean: The mean is the arithmetic average of a set of numbers. It is calculated by adding up all the values in the dataset and dividing by the number of values. The mean is a commonly used measure of central tendency, and is often used to describe the center of a dataset.\n",
        "\n",
        "2.Median: The median is the middle value in a dataset, with an equal number of values above and below it. It is useful in describing the center of a dataset, and is less sensitive to outliers than the mean.\n",
        "\n",
        "3.Mode: The mode is the value that occurs most frequently in a dataset. It is useful in describing the most common value in a dataset, and can be used with both numerical and categorical data."
      ],
      "metadata": {
        "id": "NiX2DIXwK8qh"
      }
    },
    {
      "cell_type": "code",
      "execution_count": null,
      "metadata": {
        "id": "EKdiA1tdLIpN"
      },
      "outputs": [],
      "source": []
    },
    {
      "cell_type": "markdown",
      "source": [
        "Q2. What is the difference between the mean, median, and mode? How are they used to measure the\n",
        "central tendency of a dataset?"
      ],
      "metadata": {
        "id": "lKoJq7W1Lb8G"
      }
    },
    {
      "cell_type": "markdown",
      "source": [
        "The mean, median, and mode are all measures of central tendency, but they differ in how they represent the center of a dataset.\n",
        "\n",
        "The mean is the arithmetic average of a set of numbers. It is calculated by adding up all the values in the dataset and dividing by the number of values. The mean is a commonly used measure of central tendency, and is often used to describe the center of a dataset. However, the mean can be sensitive to extreme values or outliers in the dataset, which can skew the value of the mean.\n",
        "\n",
        "The median is the middle value in a dataset, with an equal number of values above and below it. It is useful in describing the center of a dataset, and is less sensitive to outliers than the mean. The median is particularly useful when the dataset has extreme values or outliers, as it is not influenced by them.\n",
        "\n",
        "The mode is the value that occurs most frequently in a dataset. It is useful in describing the most common value in a dataset, and can be used with both numerical and categorical data. The mode can be particularly useful in identifying the most common category in a dataset.\n",
        "\n",
        "All three measures of central tendency can be used to describe the center of a dataset. The choice of which measure to use depends on the nature of the data and the research question. If the dataset is normally distributed, with no outliers or extreme values, the mean is often the most appropriate measure. If the dataset has extreme values or outliers, the median may be a more appropriate measure. If the dataset is categorical, the mode may be the most appropriate measure."
      ],
      "metadata": {
        "id": "xlkrfDnWLhi1"
      }
    },
    {
      "cell_type": "code",
      "source": [],
      "metadata": {
        "id": "Gq5YN1gtLg1n"
      },
      "execution_count": null,
      "outputs": []
    },
    {
      "cell_type": "markdown",
      "source": [
        "Q3."
      ],
      "metadata": {
        "id": "MF4iCL4oMEqP"
      }
    },
    {
      "cell_type": "code",
      "source": [
        "import numpy as np"
      ],
      "metadata": {
        "id": "9GVaL_SAMFh4"
      },
      "execution_count": 1,
      "outputs": []
    },
    {
      "cell_type": "code",
      "source": [
        "data=[178,177,176,177,178.2,178,175,179,180,175,178.9,176.2,177,172.5,178,176.5]"
      ],
      "metadata": {
        "id": "-jDmWFm6MmT3"
      },
      "execution_count": 2,
      "outputs": []
    },
    {
      "cell_type": "code",
      "source": [
        "np.mean(data)"
      ],
      "metadata": {
        "colab": {
          "base_uri": "https://localhost:8080/"
        },
        "id": "hdNEPhGIMrbo",
        "outputId": "dadcc004-1ce3-4585-81d0-060c9c730f32"
      },
      "execution_count": 3,
      "outputs": [
        {
          "output_type": "execute_result",
          "data": {
            "text/plain": [
              "177.01875"
            ]
          },
          "metadata": {},
          "execution_count": 3
        }
      ]
    },
    {
      "cell_type": "code",
      "source": [
        "np.median(data)"
      ],
      "metadata": {
        "colab": {
          "base_uri": "https://localhost:8080/"
        },
        "id": "1FA6fxsaMuw4",
        "outputId": "e123dd55-c42e-4676-9050-427c343f7613"
      },
      "execution_count": 4,
      "outputs": [
        {
          "output_type": "execute_result",
          "data": {
            "text/plain": [
              "177.0"
            ]
          },
          "metadata": {},
          "execution_count": 4
        }
      ]
    },
    {
      "cell_type": "code",
      "source": [
        "import statistics\n",
        "\n",
        "heights = [178, 177, 176, 177, 178.2, 178, 175, 179, 180, 175, 178.9, 176.2, 177, 172.5, 178, 176.5]\n",
        "\n",
        "mean = statistics.mean(heights)\n",
        "print(\"Mean:\", mean)\n",
        "\n",
        "median = statistics.median(heights)\n",
        "print(\"Median:\", median)\n",
        "\n",
        "mode = statistics.mode(heights)\n",
        "print(\"Mode:\", mode)\n"
      ],
      "metadata": {
        "colab": {
          "base_uri": "https://localhost:8080/"
        },
        "id": "zUvx_FWOM2_J",
        "outputId": "94c337b8-1835-426c-ef64-6eedfcacb6e1"
      },
      "execution_count": 6,
      "outputs": [
        {
          "output_type": "stream",
          "name": "stdout",
          "text": [
            "Mean: 177.01875\n",
            "Median: 177.0\n",
            "Mode: 178\n"
          ]
        }
      ]
    },
    {
      "cell_type": "code",
      "source": [],
      "metadata": {
        "id": "RB5_SkKyNFlR"
      },
      "execution_count": null,
      "outputs": []
    },
    {
      "cell_type": "markdown",
      "source": [
        "Q4."
      ],
      "metadata": {
        "id": "RbdjJRbNN0k6"
      }
    },
    {
      "cell_type": "code",
      "source": [
        "data1=[178,177,176,177,178.2,178,175,179,180,175,178.9,176.2,177,172.5,178,176.5]"
      ],
      "metadata": {
        "id": "tKTBg8tQN1u-"
      },
      "execution_count": 10,
      "outputs": []
    },
    {
      "cell_type": "code",
      "source": [
        "std=np.std(data1)"
      ],
      "metadata": {
        "id": "_fX620qmN6by"
      },
      "execution_count": 13,
      "outputs": []
    },
    {
      "cell_type": "code",
      "source": [
        "std"
      ],
      "metadata": {
        "colab": {
          "base_uri": "https://localhost:8080/"
        },
        "id": "Wk9vCE8cOjng",
        "outputId": "1f585794-c6f9-41ad-a8b0-7e309d2477cb"
      },
      "execution_count": 14,
      "outputs": [
        {
          "output_type": "execute_result",
          "data": {
            "text/plain": [
              "1.7885814036548633"
            ]
          },
          "metadata": {},
          "execution_count": 14
        }
      ]
    },
    {
      "cell_type": "code",
      "source": [],
      "metadata": {
        "id": "rvoRSm8iOR3Q"
      },
      "execution_count": null,
      "outputs": []
    },
    {
      "cell_type": "markdown",
      "source": [
        "Q5. How are measures of dispersion such as range, variance, and standard deviation used to describe\n",
        "the spread of a dataset? Provide an example."
      ],
      "metadata": {
        "id": "XPE7VI46O49X"
      }
    },
    {
      "cell_type": "markdown",
      "source": [
        "Measures of dispersion such as range, variance, and standard deviation are used to describe the spread or variability of a dataset.\n",
        "\n",
        "The range is the difference between the maximum and minimum values in the dataset, and provides a simple measure of the spread. However, it can be sensitive to outliers and may not be a reliable measure of dispersion in some cases.\n",
        "\n",
        "Variance and standard deviation are more robust measures of dispersion. Variance is the average of the squared differences from the mean, while standard deviation is the square root of the variance. Both of these measures take into account the deviation of each value in the dataset from the mean, giving a more precise measure of how far the data is spread out from the mean."
      ],
      "metadata": {
        "id": "gAkL2PqsPCO_"
      }
    },
    {
      "cell_type": "code",
      "source": [
        "import numpy as np"
      ],
      "metadata": {
        "id": "4TJgi8ocO5_Z"
      },
      "execution_count": 15,
      "outputs": []
    },
    {
      "cell_type": "code",
      "source": [
        "age = [23,43,23,56,74,32,68,98,45,32]"
      ],
      "metadata": {
        "id": "LZyJnuoWQH5j"
      },
      "execution_count": 16,
      "outputs": []
    },
    {
      "cell_type": "code",
      "source": [
        "np.mean(age)"
      ],
      "metadata": {
        "colab": {
          "base_uri": "https://localhost:8080/"
        },
        "id": "NxCakW-8QScB",
        "outputId": "dd9ca9c7-7b21-4d27-dbb7-46b726841213"
      },
      "execution_count": 17,
      "outputs": [
        {
          "output_type": "execute_result",
          "data": {
            "text/plain": [
              "49.4"
            ]
          },
          "metadata": {},
          "execution_count": 17
        }
      ]
    },
    {
      "cell_type": "code",
      "source": [
        "np.var(age)"
      ],
      "metadata": {
        "colab": {
          "base_uri": "https://localhost:8080/"
        },
        "id": "GhIQx9ObQVyg",
        "outputId": "894d5944-2bfb-4d8a-86b4-632119a671a3"
      },
      "execution_count": 18,
      "outputs": [
        {
          "output_type": "execute_result",
          "data": {
            "text/plain": [
              "541.64"
            ]
          },
          "metadata": {},
          "execution_count": 18
        }
      ]
    },
    {
      "cell_type": "code",
      "source": [
        "np.std(age)"
      ],
      "metadata": {
        "colab": {
          "base_uri": "https://localhost:8080/"
        },
        "id": "A7mpPJ0eQZGJ",
        "outputId": "0869d1dc-92e7-4fcc-ce5e-b0bba14a3ed8"
      },
      "execution_count": 19,
      "outputs": [
        {
          "output_type": "execute_result",
          "data": {
            "text/plain": [
              "23.273160507331188"
            ]
          },
          "metadata": {},
          "execution_count": 19
        }
      ]
    },
    {
      "cell_type": "code",
      "source": [],
      "metadata": {
        "id": "AY7cpXSlQcOn"
      },
      "execution_count": null,
      "outputs": []
    },
    {
      "cell_type": "markdown",
      "source": [
        "Q6. What is a Venn diagram?"
      ],
      "metadata": {
        "id": "PmwWDDBGQiwe"
      }
    },
    {
      "cell_type": "markdown",
      "source": [
        "A Venn diagram is a visual representation of the relationships between different sets of data. It consists of overlapping circles, each representing a set, and the overlap between the circles representing the intersection of the sets. The diagram can be used to show the relationships between two or more sets of data and to identify commonalities or differences between them.\n",
        "\n",
        "Venn diagrams are often used in mathematics, logic, and statistics to illustrate set theory, but they can also be used in many other fields, such as biology, computer science, and business. They are a useful tool for visualizing complex data and can make it easier to understand the relationships between different sets of information."
      ],
      "metadata": {
        "id": "1c7OqjqfQkuA"
      }
    },
    {
      "cell_type": "code",
      "source": [],
      "metadata": {
        "id": "Lm0vQWeRQji7"
      },
      "execution_count": null,
      "outputs": []
    },
    {
      "cell_type": "markdown",
      "source": [
        "Q7."
      ],
      "metadata": {
        "id": "00p6ynsdQx-L"
      }
    },
    {
      "cell_type": "code",
      "source": [
        "import numpy as np\n",
        "\n",
        "A = np.array([2, 3, 4, 5, 6, 7])\n",
        "B = np.array([0, 2, 6, 8, 10])\n",
        "\n",
        "intersection = np.intersect1d(A, B)\n",
        "print(\"A ∩ B =\", intersection)\n",
        "\n",
        "union = np.union1d(A, B)\n",
        "print(\"A ⋃ B =\", union)\n"
      ],
      "metadata": {
        "colab": {
          "base_uri": "https://localhost:8080/"
        },
        "id": "nEK_9lvwQ0yN",
        "outputId": "5c88ff44-f5b7-4aa8-a282-02bd22282daa"
      },
      "execution_count": 20,
      "outputs": [
        {
          "output_type": "stream",
          "name": "stdout",
          "text": [
            "A ∩ B = [2 6]\n",
            "A ⋃ B = [ 0  2  3  4  5  6  7  8 10]\n"
          ]
        }
      ]
    },
    {
      "cell_type": "code",
      "source": [],
      "metadata": {
        "id": "La2KGMSMSDA-"
      },
      "execution_count": null,
      "outputs": []
    },
    {
      "cell_type": "markdown",
      "source": [
        "Q8. What do you understand about skewness in data?"
      ],
      "metadata": {
        "id": "qvtzDOywSJ-6"
      }
    },
    {
      "cell_type": "markdown",
      "source": [
        "Skewness in data refers to the degree of asymmetry in the distribution of the data. A distribution is considered to be skewed if it is not symmetrical, which means that the data is either concentrated on one side or the other.\n",
        "\n",
        "There are two types of skewness:\n",
        "\n",
        "Positive skewness: In this case, the distribution is skewed to the right, which means that the tail of the distribution extends towards the right-hand side. This indicates that there are more values on the left-hand side and fewer values on the right-hand side.\n",
        "\n",
        "(mean > median > mode)\n",
        "\n",
        "\n",
        "\n",
        "Negative skewness: In this case, the distribution is skewed to the left, which means that the tail of the distribution extends towards the left-hand side. This indicates that there are more values on the right-hand side and fewer values on the left-hand side.\n",
        "\n",
        "(mean < median < mode)"
      ],
      "metadata": {
        "id": "ATJmP_4PSN0-"
      }
    },
    {
      "cell_type": "code",
      "source": [],
      "metadata": {
        "id": "PaE_vfT_SNEk"
      },
      "execution_count": null,
      "outputs": []
    },
    {
      "cell_type": "markdown",
      "source": [
        "Q9. If a data is right skewed then what will be the position of median with respect to mean?"
      ],
      "metadata": {
        "id": "yAciiP9oT1St"
      }
    },
    {
      "cell_type": "markdown",
      "source": [
        "If a data is right skewed, then the median will be less than the mean. This is because in a right skewed distribution, the tail of the distribution is longer towards the right, which means that there are more extreme values on the right-hand side of the distribution. As a result, the mean is pulled towards the right and is greater than the median, which is the value that divides the distribution into two equal parts."
      ],
      "metadata": {
        "id": "DfyeMzu-UJhg"
      }
    },
    {
      "cell_type": "code",
      "source": [],
      "metadata": {
        "id": "WoIXBmYJT17i"
      },
      "execution_count": null,
      "outputs": []
    },
    {
      "cell_type": "markdown",
      "source": [
        "Q10. Explain the difference between covariance and correlation. How are these measures used in\n",
        "statistical analysis?"
      ],
      "metadata": {
        "id": "1Z7uq-_WUPCE"
      }
    },
    {
      "cell_type": "markdown",
      "source": [
        "Covariance indicates the relationship of two variables whenever one variable change.\n",
        "If an increase in one variable results in an increase in the other variable,both variables are said to have a positive covariance.\n",
        "Decrease in one variable also cause a decrease in the other.\n",
        "\n",
        "Advantage:- Relation between x and y are positive or negative value.\n",
        "\n",
        "Disadvantage:- Covariance does not specific limit value.\n",
        "\n",
        "\n",
        "Correlation is a standardized measure of the strength and direction of the linear relationship between two variables. Unlike covariance, correlation is always between -1 and +1, with -1 indicating a perfect negative correlation, +1 indicating a perfect positive correlation, and 0 indicating no correlation. Correlation is calculated by dividing the covariance of the two variables by the product of their standard deviations.\n",
        "\n",
        "Two types:-\n",
        "1.Pearson Correlation Coefficient\n",
        "2.Spearman Rank Correlation\n"
      ],
      "metadata": {
        "id": "2AB2ypmPUQfL"
      }
    },
    {
      "cell_type": "code",
      "source": [],
      "metadata": {
        "id": "_UMW5Xk_UPiF"
      },
      "execution_count": null,
      "outputs": []
    },
    {
      "cell_type": "markdown",
      "source": [
        "Q11."
      ],
      "metadata": {
        "id": "XZ4AmE9cX5k3"
      }
    },
    {
      "cell_type": "markdown",
      "source": [
        "The formula for calculating the sample mean is:\n",
        "\n",
        "x̄ = Σx / n\n",
        "\n",
        "where x̄ is the sample mean, Σx is the sum of all the data points in the sample, and n is the number of data points in the sample"
      ],
      "metadata": {
        "id": "JTaiqiHMX7ox"
      }
    },
    {
      "cell_type": "code",
      "source": [
        "import numpy as np"
      ],
      "metadata": {
        "id": "G41T5UuxX6fV"
      },
      "execution_count": 21,
      "outputs": []
    },
    {
      "cell_type": "code",
      "source": [
        "age=[12,22,34,2,13]"
      ],
      "metadata": {
        "id": "BfWdXxG2YFdP"
      },
      "execution_count": 22,
      "outputs": []
    },
    {
      "cell_type": "code",
      "source": [
        "np.mean(age)"
      ],
      "metadata": {
        "colab": {
          "base_uri": "https://localhost:8080/"
        },
        "id": "L16xH-ylYIND",
        "outputId": "70fed418-6d84-4175-a8fb-6787fa4fc2ad"
      },
      "execution_count": 23,
      "outputs": [
        {
          "output_type": "execute_result",
          "data": {
            "text/plain": [
              "16.6"
            ]
          },
          "metadata": {},
          "execution_count": 23
        }
      ]
    },
    {
      "cell_type": "code",
      "source": [],
      "metadata": {
        "id": "IW8f2_TfYLFE"
      },
      "execution_count": null,
      "outputs": []
    },
    {
      "cell_type": "markdown",
      "source": [
        "Q12."
      ],
      "metadata": {
        "id": "bHIVczPnYVAz"
      }
    },
    {
      "cell_type": "markdown",
      "source": [
        "For a normal distribution data, the measure of central tendency - mean, median and mode - are all equal. This means that the peak of the normal curve (mode), the midpoint of the distribution (median) and the average value of the data (mean) are all at the same point.\n",
        "\n",
        "This is because a normal distribution is symmetric around the mean, with 50% of the data lying on either side of the mean. As a result, the median of a normal distribution is also the same as the mean. Additionally, the mode of a normal distribution also occurs at the peak, which is at the same point as the mean and median"
      ],
      "metadata": {
        "id": "3XQ00U8bYrY8"
      }
    },
    {
      "cell_type": "code",
      "source": [],
      "metadata": {
        "id": "XxZ_snMnYVwS"
      },
      "execution_count": null,
      "outputs": []
    },
    {
      "cell_type": "markdown",
      "source": [
        "Q13. How is covariance different from correlation?"
      ],
      "metadata": {
        "id": "REnvMIpcYvq7"
      }
    },
    {
      "cell_type": "markdown",
      "source": [
        "Covariance and correlation are both measures of the relationship between two variables, but they differ in a few key ways:\n",
        "\n",
        "1.Definition: Covariance measures how two variables vary together, while correlation measures how strong the relationship is between two variables.\n",
        "\n",
        "2.Range of values: Covariance can take on any value, positive or negative, depending on the direction of the relationship between the variables, while correlation is always between -1 and 1, with 0 indicating no correlation and -1 and 1 indicating a perfect negative or positive correlation, respectively.\n",
        "\n",
        "3.Units of measure: Covariance is measured in units that are the product of the units of the two variables being measured, while correlation is a unitless measure.\n",
        "\n",
        "4.Interpretation: Covariance can be difficult to interpret because it depends on the units of measure of the two variables. Correlation, on the other hand, is easier to interpret because it is unitless and falls within a fixed range of values."
      ],
      "metadata": {
        "id": "nzKAK6l-ZE07"
      }
    },
    {
      "cell_type": "code",
      "source": [],
      "metadata": {
        "id": "V5utLnVjYwOH"
      },
      "execution_count": null,
      "outputs": []
    },
    {
      "cell_type": "markdown",
      "source": [
        "Q14. How do outliers affect measures of central tendency and dispersion? Provide an example."
      ],
      "metadata": {
        "id": "Qimz4PR9ZWnY"
      }
    },
    {
      "cell_type": "markdown",
      "source": [
        "Outliers are extreme values that differ significantly from other observations in a dataset. They can have a significant impact on measures of central tendency and dispersion.\n",
        "\n",
        "If an outlier is present in a dataset, it can significantly affect the mean, making it a poor measure of central tendency. For example, consider the following dataset: [10, 20, 30, 40, 50, 200]. The mean of this dataset is (10+20+30+40+50+200)/6 = 50. However, 200 is an outlier, and it significantly skews the mean higher. In this case, the median would be a better measure of central tendency, as it is not affected by outliers.\n",
        "\n",
        "Similarly, outliers can affect measures of dispersion such as the range, variance, and standard deviation. For example, consider the following dataset: [10, 20, 30, 40, 50, 200]. The range of this dataset is 200-10 = 190. However, this range is largely influenced by the outlier value of 200. In this case, the interquartile range (IQR) would be a better measure of dispersion, as it is less sensitive to outliers.\n",
        "\n",
        "In summary, outliers can significantly affect measures of central tendency and dispersion, and it is important to identify and appropriately handle them in statistical analysis."
      ],
      "metadata": {
        "id": "wtGjI3QeZbow"
      }
    },
    {
      "cell_type": "code",
      "source": [],
      "metadata": {
        "id": "tfBp7XlXZajr"
      },
      "execution_count": null,
      "outputs": []
    }
  ]
}